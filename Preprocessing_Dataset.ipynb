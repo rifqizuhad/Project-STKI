{
  "nbformat": 4,
  "nbformat_minor": 0,
  "metadata": {
    "colab": {
      "provenance": []
    },
    "kernelspec": {
      "name": "python3",
      "display_name": "Python 3"
    },
    "language_info": {
      "name": "python"
    }
  },
  "cells": [
    {
      "cell_type": "code",
      "execution_count": null,
      "metadata": {
        "colab": {
          "base_uri": "https://localhost:8080/"
        },
        "id": "AwFelyu4hXRF",
        "outputId": "b2b8dee1-3755-41b4-ea46-54ff1c0cb18a"
      },
      "outputs": [
        {
          "output_type": "stream",
          "name": "stdout",
          "text": [
            "Mounted at /content/drive\n"
          ]
        }
      ],
      "source": [
        "from google.colab import drive\n",
        "drive.mount('/content/drive')"
      ]
    },
    {
      "cell_type": "markdown",
      "source": [
        "#Preprocessing Data\n"
      ],
      "metadata": {
        "id": "GghhqHt-hjJH"
      }
    },
    {
      "cell_type": "code",
      "source": [
        "import pandas as pd\n",
        "\n",
        "# Membaca dataset\n",
        "file_path = '/content/drive/My Drive/Colab Notebooks/TugasSTKI/dataset.csv'\n",
        "data = pd.read_csv(file_path)\n",
        "\n",
        "# Menampilkan nama kolom\n",
        "print(data.columns)"
      ],
      "metadata": {
        "colab": {
          "base_uri": "https://localhost:8080/"
        },
        "id": "fsya-wX-hbdn",
        "outputId": "d82b0c8b-a9c9-4922-9bf3-09d959bd2134"
      },
      "execution_count": null,
      "outputs": [
        {
          "output_type": "stream",
          "name": "stdout",
          "text": [
            "Index(['Unnamed: 0', 'product_href', 'product_name', 'product_type', 'brand',\n",
            "       'notable_effects', 'skintype', 'price', 'description', 'picture_src',\n",
            "       'labels', 'Sensitive', 'Combination', 'Oily', 'Dry', 'Normal'],\n",
            "      dtype='object')\n"
          ]
        }
      ]
    },
    {
      "cell_type": "code",
      "source": [
        "import pandas as pd\n",
        "\n",
        "# Membaca dataset dari file CSV\n",
        "file_path = '/content/drive/My Drive/Colab Notebooks/TugasSTKI/dataset.csv'\n",
        "data = pd.read_csv(file_path)\n",
        "\n",
        "# Menampilkan 5 baris pertama dari dataset\n",
        "print(\"Menampilkan 5 baris pertama dari dataset:\")\n",
        "print(data.head(5))\n",
        "\n",
        "# Menampilkan 5 baris pertama hanya untuk kolom-kolom tertentu\n",
        "columns_to_display = ['Unnamed: 0', 'product_href', 'product_name', 'product_type', 'brand',\n",
        "                      'notable_effects', 'skintype', 'price', 'description', 'picture_src']\n",
        "print(\"\\nMenampilkan 5 baris pertama untuk kolom-kolom yang relevan:\")\n",
        "print(data[columns_to_display].head(5))"
      ],
      "metadata": {
        "colab": {
          "base_uri": "https://localhost:8080/"
        },
        "id": "oVYDkYNThlaN",
        "outputId": "e4bd6b02-cc6d-41c2-f8fc-088cf6de2cc5"
      },
      "execution_count": null,
      "outputs": [
        {
          "output_type": "stream",
          "name": "stdout",
          "text": [
            "Menampilkan 5 baris pertama dari dataset:\n",
            "   Unnamed: 0                                       product_href  \\\n",
            "0           0  https://www.beautyhaul.com/product/detail/bubb...   \n",
            "1           1  https://www.sociolla.com/face-wash/62452-ph-ba...   \n",
            "2           2  https://www.sociolla.com/toner/15871-licorice-...   \n",
            "3           3  https://www.beautyhaul.com/product/detail/aqua...   \n",
            "4           4  https://www.sociolla.com/essence/38023-licoric...   \n",
            "\n",
            "                                    product_name product_type    brand  \\\n",
            "0       ACWELL Bubble Free PH Balancing Cleanser    Face Wash  ACWELL    \n",
            "1    ACWELL pH Balancing Soothing Cleansing Foam    Face Wash  ACWELL    \n",
            "2  Acwell Licorice pH Balancing Cleansing Toner         Toner  ACWELL    \n",
            "3                ACWELL Aquaseal Soothing Tonic         Toner  ACWELL    \n",
            "4             Licorice pH Balancing Essence Mist        Toner  ACWELL    \n",
            "\n",
            "                                 notable_effects  \\\n",
            "0  Acne-Free, Pore-Care, Brightening, Anti-Aging   \n",
            "1                            Soothing, Balancing   \n",
            "2                            Soothing, Balancing   \n",
            "3  Acne-Free, Pore-Care, Brightening, Anti-Aging   \n",
            "4                          Brightening, Soothing   \n",
            "\n",
            "                                    skintype       price  \\\n",
            "0                                       Oily  Rp 209.000   \n",
            "1                   Normal, Dry, Combination  Rp 181.800   \n",
            "2  Normal, Dry, Oily, Combination, Sensitive  Rp 149.000   \n",
            "3                                       Oily  Rp 290.000   \n",
            "4                                Normal, Dry  Rp 194.650   \n",
            "\n",
            "                                         description  \\\n",
            "0  Mengangkat kotoran dan menghapus makeup dalam ...   \n",
            "1  Membersihkan dan menenangkan kulit sensitif de...   \n",
            "2  Mengangkat sisa kotoran, debu, dan make up sek...   \n",
            "3  Pre-essence yang diformulasikan dengan ekstrak...   \n",
            "4  Essens mist dengan kelembapan tinggi yang memb...   \n",
            "\n",
            "                                         picture_src  labels  Sensitive  \\\n",
            "0  https://www.beautyhaul.com/assets/uploads/prod...      18          0   \n",
            "1  https://images.soco.id/8f08ced0-344d-41f4-a15e...     127          0   \n",
            "2  https://www.soco.id/cdn-cgi/image/w=73,format=...     127          1   \n",
            "3  https://www.beautyhaul.com/assets/uploads/prod...      18          0   \n",
            "4  https://www.sociolla.com/cdn-cgi/image/w=425,f...      40          0   \n",
            "\n",
            "   Combination  Oily  Dry  Normal  \n",
            "0            0     1    0       0  \n",
            "1            1     0    1       1  \n",
            "2            1     1    1       1  \n",
            "3            0     1    0       0  \n",
            "4            0     0    1       1  \n",
            "\n",
            "Menampilkan 5 baris pertama untuk kolom-kolom yang relevan:\n",
            "   Unnamed: 0                                       product_href  \\\n",
            "0           0  https://www.beautyhaul.com/product/detail/bubb...   \n",
            "1           1  https://www.sociolla.com/face-wash/62452-ph-ba...   \n",
            "2           2  https://www.sociolla.com/toner/15871-licorice-...   \n",
            "3           3  https://www.beautyhaul.com/product/detail/aqua...   \n",
            "4           4  https://www.sociolla.com/essence/38023-licoric...   \n",
            "\n",
            "                                    product_name product_type    brand  \\\n",
            "0       ACWELL Bubble Free PH Balancing Cleanser    Face Wash  ACWELL    \n",
            "1    ACWELL pH Balancing Soothing Cleansing Foam    Face Wash  ACWELL    \n",
            "2  Acwell Licorice pH Balancing Cleansing Toner         Toner  ACWELL    \n",
            "3                ACWELL Aquaseal Soothing Tonic         Toner  ACWELL    \n",
            "4             Licorice pH Balancing Essence Mist        Toner  ACWELL    \n",
            "\n",
            "                                 notable_effects  \\\n",
            "0  Acne-Free, Pore-Care, Brightening, Anti-Aging   \n",
            "1                            Soothing, Balancing   \n",
            "2                            Soothing, Balancing   \n",
            "3  Acne-Free, Pore-Care, Brightening, Anti-Aging   \n",
            "4                          Brightening, Soothing   \n",
            "\n",
            "                                    skintype       price  \\\n",
            "0                                       Oily  Rp 209.000   \n",
            "1                   Normal, Dry, Combination  Rp 181.800   \n",
            "2  Normal, Dry, Oily, Combination, Sensitive  Rp 149.000   \n",
            "3                                       Oily  Rp 290.000   \n",
            "4                                Normal, Dry  Rp 194.650   \n",
            "\n",
            "                                         description  \\\n",
            "0  Mengangkat kotoran dan menghapus makeup dalam ...   \n",
            "1  Membersihkan dan menenangkan kulit sensitif de...   \n",
            "2  Mengangkat sisa kotoran, debu, dan make up sek...   \n",
            "3  Pre-essence yang diformulasikan dengan ekstrak...   \n",
            "4  Essens mist dengan kelembapan tinggi yang memb...   \n",
            "\n",
            "                                         picture_src  \n",
            "0  https://www.beautyhaul.com/assets/uploads/prod...  \n",
            "1  https://images.soco.id/8f08ced0-344d-41f4-a15e...  \n",
            "2  https://www.soco.id/cdn-cgi/image/w=73,format=...  \n",
            "3  https://www.beautyhaul.com/assets/uploads/prod...  \n",
            "4  https://www.sociolla.com/cdn-cgi/image/w=425,f...  \n"
          ]
        }
      ]
    },
    {
      "cell_type": "code",
      "source": [
        "import pandas as pd\n",
        "\n",
        "# Membaca dataset\n",
        "file_path = '/content/drive/My Drive/Colab Notebooks/TugasSTKI/dataset.csv'\n",
        "data = pd.read_csv(file_path)\n",
        "\n",
        "# Mengubah nama kolom\n",
        "data = data.rename(columns={\n",
        "    'product_name': 'nama_produk',\n",
        "    'brand': 'nama_brand',\n",
        "    'description': 'deskripsi_produk',\n",
        "    'skintype': 'jenis_kulit_yang_cocok',\n",
        "    'notable_effects': 'masalah_kulit_yang_ditangani',\n",
        "    'price': 'harga_produk',\n",
        "    'product_type': 'kategori_produk',\n",
        "    'product_href': 'link_pembelian'\n",
        "})\n",
        "\n",
        "# Menghapus kolom yang tidak dibutuhkan\n",
        "kolom_yang_dihapus = ['Unnamed: 0', 'picture_src', 'labels']\n",
        "data = data.drop(columns=kolom_yang_dihapus)\n",
        "\n",
        "# Menyimpan dataset yang telah dibersihkan ke file baru\n",
        "cleaned_file_path = '/content/drive/My Drive/Colab Notebooks/TugasSTKI/dataset_cleaned.csv'\n",
        "data.to_csv(cleaned_file_path, index=False)\n",
        "\n",
        "# Menampilkan beberapa baris pertama dari dataset yang telah dibersihkan\n",
        "print(data.head())"
      ],
      "metadata": {
        "colab": {
          "base_uri": "https://localhost:8080/"
        },
        "id": "GYJ62UUohn_S",
        "outputId": "ca452dcc-6ed5-43ed-c687-c8872051174b"
      },
      "execution_count": null,
      "outputs": [
        {
          "output_type": "stream",
          "name": "stdout",
          "text": [
            "                                      link_pembelian  \\\n",
            "0  https://www.beautyhaul.com/product/detail/bubb...   \n",
            "1  https://www.sociolla.com/face-wash/62452-ph-ba...   \n",
            "2  https://www.sociolla.com/toner/15871-licorice-...   \n",
            "3  https://www.beautyhaul.com/product/detail/aqua...   \n",
            "4  https://www.sociolla.com/essence/38023-licoric...   \n",
            "\n",
            "                                     nama_produk kategori_produk nama_brand  \\\n",
            "0       ACWELL Bubble Free PH Balancing Cleanser       Face Wash    ACWELL    \n",
            "1    ACWELL pH Balancing Soothing Cleansing Foam       Face Wash    ACWELL    \n",
            "2  Acwell Licorice pH Balancing Cleansing Toner            Toner    ACWELL    \n",
            "3                ACWELL Aquaseal Soothing Tonic            Toner    ACWELL    \n",
            "4             Licorice pH Balancing Essence Mist           Toner    ACWELL    \n",
            "\n",
            "                    masalah_kulit_yang_ditangani  \\\n",
            "0  Acne-Free, Pore-Care, Brightening, Anti-Aging   \n",
            "1                            Soothing, Balancing   \n",
            "2                            Soothing, Balancing   \n",
            "3  Acne-Free, Pore-Care, Brightening, Anti-Aging   \n",
            "4                          Brightening, Soothing   \n",
            "\n",
            "                      jenis_kulit_yang_cocok harga_produk  \\\n",
            "0                                       Oily   Rp 209.000   \n",
            "1                   Normal, Dry, Combination   Rp 181.800   \n",
            "2  Normal, Dry, Oily, Combination, Sensitive   Rp 149.000   \n",
            "3                                       Oily   Rp 290.000   \n",
            "4                                Normal, Dry   Rp 194.650   \n",
            "\n",
            "                                    deskripsi_produk  Sensitive  Combination  \\\n",
            "0  Mengangkat kotoran dan menghapus makeup dalam ...          0            0   \n",
            "1  Membersihkan dan menenangkan kulit sensitif de...          0            1   \n",
            "2  Mengangkat sisa kotoran, debu, dan make up sek...          1            1   \n",
            "3  Pre-essence yang diformulasikan dengan ekstrak...          0            0   \n",
            "4  Essens mist dengan kelembapan tinggi yang memb...          0            0   \n",
            "\n",
            "   Oily  Dry  Normal  \n",
            "0     1    0       0  \n",
            "1     0    1       1  \n",
            "2     1    1       1  \n",
            "3     1    0       0  \n",
            "4     0    1       1  \n"
          ]
        }
      ]
    }
  ]
}